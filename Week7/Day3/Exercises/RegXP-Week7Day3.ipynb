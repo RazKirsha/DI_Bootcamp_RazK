{
 "cells": [
  {
   "cell_type": "code",
   "execution_count": 1,
   "metadata": {},
   "outputs": [],
   "source": [
    "import numpy as np\n",
    "import pandas as pd\n",
    "from matplotlib import pyplot as plt\n",
    "from sklearn.cluster import KMeans\n",
    "from sklearn.neighbors import KNeighborsClassifier\n",
    "from sklearn.model_selection import train_test_split"
   ]
  },
  {
   "cell_type": "code",
   "execution_count": 2,
   "metadata": {},
   "outputs": [],
   "source": [
    "# This function calculate the distance between two given points"
   ]
  },
  {
   "cell_type": "code",
   "execution_count": 3,
   "metadata": {},
   "outputs": [],
   "source": [
    "def euclidean_distance(row1, row2):\n",
    "    distance = 0.0\n",
    "    for i in range(len(row1)-1):\n",
    "        distance += (row1[i] - row2[i])**2\n",
    "    return pow(distance,0.5)"
   ]
  },
  {
   "cell_type": "code",
   "execution_count": 4,
   "metadata": {},
   "outputs": [],
   "source": [
    "dataset = [[2.7810836,2.550537003,0],\n",
    "    [1.465489372,2.362125076,0],\n",
    "    [3.396561688,4.400293529,0],\n",
    "    [1.38807019,1.850220317,0],\n",
    "    [3.06407232,3.005305973,0],\n",
    "    [7.627531214,2.759262235,1],\n",
    "    [5.332441248,2.088626775,1],\n",
    "    [6.922596716,1.77106367,1],\n",
    "    [8.675418651,-0.242068655,1],\n",
    "    [7.673756466,3.508563011,1]]\n",
    "row0 = dataset[0]"
   ]
  },
  {
   "cell_type": "code",
   "execution_count": 5,
   "metadata": {},
   "outputs": [
    {
     "name": "stdout",
     "output_type": "stream",
     "text": [
      "0.0\n",
      "------\n",
      "1.3290173915275787\n",
      "------\n",
      "1.9494646655653247\n",
      "------\n",
      "1.5591439385540549\n",
      "------\n",
      "0.5356280721938492\n",
      "------\n",
      "4.850940186986411\n",
      "------\n",
      "2.592833759950511\n",
      "------\n",
      "4.214227042632867\n",
      "------\n",
      "6.522409988228337\n",
      "------\n",
      "4.985585382449795\n",
      "------\n"
     ]
    }
   ],
   "source": [
    "for row in dataset:\n",
    "    distance = euclidean_distance(row0, row)\n",
    "    print(distance)\n",
    "    print('------')"
   ]
  },
  {
   "cell_type": "code",
   "execution_count": 6,
   "metadata": {},
   "outputs": [],
   "source": [
    "# This function is calculating the distance between the test row to each of the rows in the data set\n",
    "# and returns the number_neighbors most closest points to the test points.\n",
    "\n",
    "# This function is using the \"euclidean_distance\" function to get the distance between a given point to the rest of the dataset\n",
    "# using a for loop"
   ]
  },
  {
   "cell_type": "code",
   "execution_count": 7,
   "metadata": {},
   "outputs": [],
   "source": [
    "def get_neighbors(train, test_row, num_neighbors):\n",
    "    distances = list()\n",
    "    for train_row in train:\n",
    "        dist = euclidean_distance(test_row, train_row)\n",
    "        distances.append((train_row, dist))\n",
    "#     print(f'||This is distances before: {distances}||')\n",
    "    distances.sort(key=lambda tup: tup[1])\n",
    "#     print(f'||This is distances after: {distances}||')\n",
    "    neighbors = list()\n",
    "    for i in range(num_neighbors):\n",
    "        neighbors.append(distances[i][0])\n",
    "    return neighbors"
   ]
  },
  {
   "cell_type": "code",
   "execution_count": 8,
   "metadata": {},
   "outputs": [
    {
     "name": "stdout",
     "output_type": "stream",
     "text": [
      "[2.7810836, 2.550537003, 0]\n",
      "[3.06407232, 3.005305973, 0]\n",
      "[1.465489372, 2.362125076, 0]\n",
      "[1.38807019, 1.850220317, 0]\n",
      "[3.396561688, 4.400293529, 0]\n"
     ]
    }
   ],
   "source": [
    "neighbors = get_neighbors(dataset, dataset[0], 5)\n",
    "for neighbor in neighbors:\n",
    "    print(neighbor)"
   ]
  },
  {
   "cell_type": "code",
   "execution_count": null,
   "metadata": {},
   "outputs": [],
   "source": []
  },
  {
   "cell_type": "code",
   "execution_count": null,
   "metadata": {},
   "outputs": [],
   "source": [
    "# This function is getting the \"number_neighbors\" of points from the \"get_neighbors\" function as a list\n",
    "# and getting the values of their labels (name of flower in that instance).\n",
    "# Then it takes the maximum number of occurences - which is the prediction and returns it to the user."
   ]
  },
  {
   "cell_type": "code",
   "execution_count": 9,
   "metadata": {},
   "outputs": [],
   "source": [
    "def predict_classification(train, test_row, num_neighbors):\n",
    "    neighbors = get_neighbors(train, test_row, num_neighbors)\n",
    "    output_values = [row[-1] for row in neighbors]\n",
    "    prediction = max(set(output_values), key=output_values.count)\n",
    "    return prediction"
   ]
  },
  {
   "cell_type": "code",
   "execution_count": 10,
   "metadata": {},
   "outputs": [],
   "source": [
    "prediction = predict_classification(dataset, dataset[0], 5)"
   ]
  },
  {
   "cell_type": "code",
   "execution_count": 11,
   "metadata": {},
   "outputs": [
    {
     "data": {
      "text/plain": [
       "0"
      ]
     },
     "execution_count": 11,
     "metadata": {},
     "output_type": "execute_result"
    }
   ],
   "source": [
    "prediction"
   ]
  },
  {
   "cell_type": "code",
   "execution_count": null,
   "metadata": {},
   "outputs": [],
   "source": []
  },
  {
   "cell_type": "code",
   "execution_count": 12,
   "metadata": {},
   "outputs": [],
   "source": [
    "class KNNClassifier:\n",
    "    \n",
    "    def  __init__(self,dataset, to_predict, num_neighbors):\n",
    "        self.dataset = np.array(dataset)\n",
    "        self.to_predict = to_predict\n",
    "    \n",
    "    @staticmethod\n",
    "    # each row has a 'petal_length', 'petal_width' and a 'species'\n",
    "    def euclidean_distance(row1, row2):\n",
    "        distance = 0.0\n",
    "        for i in range(len(row1)-1):\n",
    "            distance += (row1[i] - row2[i])**2\n",
    "        return pow(distance,0.5)\n",
    "    \n",
    "    @staticmethod\n",
    "    def get_neighbors(trn, tsr, nn):\n",
    "        distances = list()\n",
    "        for train_row in trn:\n",
    "            dist = euclidean_distance(tsr, train_row)\n",
    "            distances.append((train_row, dist))\n",
    "    #     print(f'||This is distances before: {distances}||')\n",
    "        distances.sort(key=lambda tup: tup[1])\n",
    "    #     print(f'||This is distances after: {distances}||')\n",
    "        neighbors = list()\n",
    "        for i in range(nn):\n",
    "            neighbors.append(distances[i][0])\n",
    "        return neighbors\n",
    "    \n",
    "    def predict_classification2(self, num_neighbors):\n",
    "        neighbors = get_neighbors(self.dataset,self.to_predict,num_neighbors)\n",
    "        output_values = [row[-1] for row in neighbors]\n",
    "        prediction = max(set(output_values), key=output_values.count)\n",
    "        return prediction"
   ]
  },
  {
   "cell_type": "code",
   "execution_count": 13,
   "metadata": {},
   "outputs": [],
   "source": [
    "df = pd.read_csv('https://raw.githubusercontent.com/mwaskom/seaborn-data/master/iris.csv')\n",
    "\n",
    "X = df[['petal_length', 'petal_width','species']]\n",
    "y = np.array([5.9,3.0])\n",
    "\n",
    "a = KNNClassifier(X,y,3)"
   ]
  },
  {
   "cell_type": "code",
   "execution_count": 14,
   "metadata": {},
   "outputs": [
    {
     "data": {
      "text/plain": [
       "'virginica'"
      ]
     },
     "execution_count": 14,
     "metadata": {},
     "output_type": "execute_result"
    }
   ],
   "source": [
    "a.predict_classification2(5)"
   ]
  },
  {
   "cell_type": "code",
   "execution_count": null,
   "metadata": {},
   "outputs": [],
   "source": []
  },
  {
   "cell_type": "code",
   "execution_count": null,
   "metadata": {},
   "outputs": [],
   "source": []
  },
  {
   "cell_type": "code",
   "execution_count": null,
   "metadata": {},
   "outputs": [],
   "source": []
  }
 ],
 "metadata": {
  "kernelspec": {
   "display_name": "Python 3",
   "language": "python",
   "name": "python3"
  },
  "language_info": {
   "codemirror_mode": {
    "name": "ipython",
    "version": 3
   },
   "file_extension": ".py",
   "mimetype": "text/x-python",
   "name": "python",
   "nbconvert_exporter": "python",
   "pygments_lexer": "ipython3",
   "version": "3.7.6"
  }
 },
 "nbformat": 4,
 "nbformat_minor": 4
}
